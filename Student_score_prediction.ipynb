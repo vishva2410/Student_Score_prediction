{
  "cells": [
    {
      "cell_type": "markdown",
      "metadata": {
        "id": "view-in-github",
        "colab_type": "text"
      },
      "source": [
        "<a href=\"https://colab.research.google.com/github/vishva2410/Student_Score_prediction/blob/main/Student_score_prediction.ipynb\" target=\"_parent\"><img src=\"https://colab.research.google.com/assets/colab-badge.svg\" alt=\"Open In Colab\"/></a>"
      ]
    },
    {
      "cell_type": "code",
      "execution_count": null,
      "id": "281563e6-4f9a-4501-9c05-5289a6735110",
      "metadata": {
        "id": "281563e6-4f9a-4501-9c05-5289a6735110"
      },
      "outputs": [],
      "source": [
        "import pandas as pd\n",
        "from sklearn.preprocessing import StandardScaler,LabelEncoder\n",
        "from sklearn.model_selection import train_test_split\n",
        "import matplotlib.pyplot as plt\n",
        "import numpy as np\n",
        "from sklearn.metrics import accuracy_score\n",
        "from sklearn.linear_model import LinearRegression"
      ]
    },
    {
      "cell_type": "code",
      "execution_count": null,
      "id": "d3e370fd-88d0-4e1a-a329-957764650557",
      "metadata": {
        "id": "d3e370fd-88d0-4e1a-a329-957764650557",
        "outputId": "b89c7fdc-f811-4e86-e0a9-080df814cb00"
      },
      "outputs": [
        {
          "data": {
            "text/html": [
              "<div>\n",
              "<style scoped>\n",
              "    .dataframe tbody tr th:only-of-type {\n",
              "        vertical-align: middle;\n",
              "    }\n",
              "\n",
              "    .dataframe tbody tr th {\n",
              "        vertical-align: top;\n",
              "    }\n",
              "\n",
              "    .dataframe thead th {\n",
              "        text-align: right;\n",
              "    }\n",
              "</style>\n",
              "<table border=\"1\" class=\"dataframe\">\n",
              "  <thead>\n",
              "    <tr style=\"text-align: right;\">\n",
              "      <th></th>\n",
              "      <th>id</th>\n",
              "      <th>first_name</th>\n",
              "      <th>last_name</th>\n",
              "      <th>email</th>\n",
              "      <th>gender</th>\n",
              "      <th>part_time_job</th>\n",
              "      <th>absence_days</th>\n",
              "      <th>extracurricular_activities</th>\n",
              "      <th>weekly_self_study_hours</th>\n",
              "      <th>career_aspiration</th>\n",
              "      <th>math_score</th>\n",
              "      <th>history_score</th>\n",
              "      <th>physics_score</th>\n",
              "      <th>chemistry_score</th>\n",
              "      <th>biology_score</th>\n",
              "      <th>english_score</th>\n",
              "      <th>geography_score</th>\n",
              "    </tr>\n",
              "  </thead>\n",
              "  <tbody>\n",
              "    <tr>\n",
              "      <th>0</th>\n",
              "      <td>1</td>\n",
              "      <td>Paul</td>\n",
              "      <td>Casey</td>\n",
              "      <td>paul.casey.1@gslingacademy.com</td>\n",
              "      <td>male</td>\n",
              "      <td>False</td>\n",
              "      <td>3</td>\n",
              "      <td>False</td>\n",
              "      <td>27</td>\n",
              "      <td>Lawyer</td>\n",
              "      <td>73</td>\n",
              "      <td>81</td>\n",
              "      <td>93</td>\n",
              "      <td>97</td>\n",
              "      <td>63</td>\n",
              "      <td>80</td>\n",
              "      <td>87</td>\n",
              "    </tr>\n",
              "    <tr>\n",
              "      <th>1</th>\n",
              "      <td>2</td>\n",
              "      <td>Danielle</td>\n",
              "      <td>Sandoval</td>\n",
              "      <td>danielle.sandoval.2@gslingacademy.com</td>\n",
              "      <td>female</td>\n",
              "      <td>False</td>\n",
              "      <td>2</td>\n",
              "      <td>False</td>\n",
              "      <td>47</td>\n",
              "      <td>Doctor</td>\n",
              "      <td>90</td>\n",
              "      <td>86</td>\n",
              "      <td>96</td>\n",
              "      <td>100</td>\n",
              "      <td>90</td>\n",
              "      <td>88</td>\n",
              "      <td>90</td>\n",
              "    </tr>\n",
              "    <tr>\n",
              "      <th>2</th>\n",
              "      <td>3</td>\n",
              "      <td>Tina</td>\n",
              "      <td>Andrews</td>\n",
              "      <td>tina.andrews.3@gslingacademy.com</td>\n",
              "      <td>female</td>\n",
              "      <td>False</td>\n",
              "      <td>9</td>\n",
              "      <td>True</td>\n",
              "      <td>13</td>\n",
              "      <td>Government Officer</td>\n",
              "      <td>81</td>\n",
              "      <td>97</td>\n",
              "      <td>95</td>\n",
              "      <td>96</td>\n",
              "      <td>65</td>\n",
              "      <td>77</td>\n",
              "      <td>94</td>\n",
              "    </tr>\n",
              "    <tr>\n",
              "      <th>3</th>\n",
              "      <td>4</td>\n",
              "      <td>Tara</td>\n",
              "      <td>Clark</td>\n",
              "      <td>tara.clark.4@gslingacademy.com</td>\n",
              "      <td>female</td>\n",
              "      <td>False</td>\n",
              "      <td>5</td>\n",
              "      <td>False</td>\n",
              "      <td>3</td>\n",
              "      <td>Artist</td>\n",
              "      <td>71</td>\n",
              "      <td>74</td>\n",
              "      <td>88</td>\n",
              "      <td>80</td>\n",
              "      <td>89</td>\n",
              "      <td>63</td>\n",
              "      <td>86</td>\n",
              "    </tr>\n",
              "    <tr>\n",
              "      <th>4</th>\n",
              "      <td>5</td>\n",
              "      <td>Anthony</td>\n",
              "      <td>Campos</td>\n",
              "      <td>anthony.campos.5@gslingacademy.com</td>\n",
              "      <td>male</td>\n",
              "      <td>False</td>\n",
              "      <td>5</td>\n",
              "      <td>False</td>\n",
              "      <td>10</td>\n",
              "      <td>Unknown</td>\n",
              "      <td>84</td>\n",
              "      <td>77</td>\n",
              "      <td>65</td>\n",
              "      <td>65</td>\n",
              "      <td>80</td>\n",
              "      <td>74</td>\n",
              "      <td>76</td>\n",
              "    </tr>\n",
              "  </tbody>\n",
              "</table>\n",
              "</div>"
            ],
            "text/plain": [
              "   id first_name last_name                                  email  gender  \\\n",
              "0   1       Paul     Casey         paul.casey.1@gslingacademy.com    male   \n",
              "1   2   Danielle  Sandoval  danielle.sandoval.2@gslingacademy.com  female   \n",
              "2   3       Tina   Andrews       tina.andrews.3@gslingacademy.com  female   \n",
              "3   4       Tara     Clark         tara.clark.4@gslingacademy.com  female   \n",
              "4   5    Anthony    Campos     anthony.campos.5@gslingacademy.com    male   \n",
              "\n",
              "   part_time_job  absence_days  extracurricular_activities  \\\n",
              "0          False             3                       False   \n",
              "1          False             2                       False   \n",
              "2          False             9                        True   \n",
              "3          False             5                       False   \n",
              "4          False             5                       False   \n",
              "\n",
              "   weekly_self_study_hours   career_aspiration  math_score  history_score  \\\n",
              "0                       27              Lawyer          73             81   \n",
              "1                       47              Doctor          90             86   \n",
              "2                       13  Government Officer          81             97   \n",
              "3                        3              Artist          71             74   \n",
              "4                       10             Unknown          84             77   \n",
              "\n",
              "   physics_score  chemistry_score  biology_score  english_score  \\\n",
              "0             93               97             63             80   \n",
              "1             96              100             90             88   \n",
              "2             95               96             65             77   \n",
              "3             88               80             89             63   \n",
              "4             65               65             80             74   \n",
              "\n",
              "   geography_score  \n",
              "0               87  \n",
              "1               90  \n",
              "2               94  \n",
              "3               86  \n",
              "4               76  "
            ]
          },
          "execution_count": 6,
          "metadata": {},
          "output_type": "execute_result"
        }
      ],
      "source": [
        "df = pd.read_csv('student-scores.csv')\n",
        "df.head(5)"
      ]
    },
    {
      "cell_type": "code",
      "execution_count": null,
      "id": "501843b6-4467-40ad-b502-5e5c1f6c0f73",
      "metadata": {
        "id": "501843b6-4467-40ad-b502-5e5c1f6c0f73",
        "outputId": "de05fba7-1be1-4f65-db14-0987affdf25b"
      },
      "outputs": [
        {
          "name": "stdout",
          "output_type": "stream",
          "text": [
            "   id first_name last_name                                  email  gender  \\\n",
            "0   1       Paul     Casey         paul.casey.1@gslingacademy.com    male   \n",
            "1   2   Danielle  Sandoval  danielle.sandoval.2@gslingacademy.com  female   \n",
            "2   3       Tina   Andrews       tina.andrews.3@gslingacademy.com  female   \n",
            "3   4       Tara     Clark         tara.clark.4@gslingacademy.com  female   \n",
            "4   5    Anthony    Campos     anthony.campos.5@gslingacademy.com    male   \n",
            "\n",
            "   part_time_job  absence_days  extracurricular_activities  \\\n",
            "0          False             3                       False   \n",
            "1          False             2                       False   \n",
            "2          False             9                        True   \n",
            "3          False             5                       False   \n",
            "4          False             5                       False   \n",
            "\n",
            "   weekly_self_study_hours   career_aspiration  math_score  history_score  \\\n",
            "0                       27              Lawyer          73             81   \n",
            "1                       47              Doctor          90             86   \n",
            "2                       13  Government Officer          81             97   \n",
            "3                        3              Artist          71             74   \n",
            "4                       10             Unknown          84             77   \n",
            "\n",
            "   physics_score  chemistry_score  biology_score  english_score  \\\n",
            "0             93               97             63             80   \n",
            "1             96              100             90             88   \n",
            "2             95               96             65             77   \n",
            "3             88               80             89             63   \n",
            "4             65               65             80             74   \n",
            "\n",
            "   geography_score  average_score  \n",
            "0               87      82.000000  \n",
            "1               90      91.428571  \n",
            "2               94      86.428571  \n",
            "3               86      78.714286  \n",
            "4               76      74.428571  \n"
          ]
        }
      ],
      "source": [
        "df['average_score'] = df[['math_score', 'history_score', 'physics_score',\n",
        "                         'chemistry_score', 'biology_score',\n",
        "                         'english_score', 'geography_score']].mean(axis=1)\n",
        "\n",
        "print(df.head(5))\n"
      ]
    },
    {
      "cell_type": "code",
      "execution_count": null,
      "id": "0c9495f9-8038-4e32-8c76-50627762fe93",
      "metadata": {
        "id": "0c9495f9-8038-4e32-8c76-50627762fe93",
        "outputId": "ccb6b641-3263-4f44-aa4f-2266dd088c1f"
      },
      "outputs": [
        {
          "data": {
            "text/plain": [
              "id                            0\n",
              "first_name                    0\n",
              "last_name                     0\n",
              "email                         0\n",
              "gender                        0\n",
              "part_time_job                 0\n",
              "absence_days                  0\n",
              "extracurricular_activities    0\n",
              "weekly_self_study_hours       0\n",
              "career_aspiration             0\n",
              "math_score                    0\n",
              "history_score                 0\n",
              "physics_score                 0\n",
              "chemistry_score               0\n",
              "biology_score                 0\n",
              "english_score                 0\n",
              "geography_score               0\n",
              "average_score                 0\n",
              "dtype: int64"
            ]
          },
          "execution_count": 10,
          "metadata": {},
          "output_type": "execute_result"
        }
      ],
      "source": [
        "df.isnull().sum()"
      ]
    },
    {
      "cell_type": "code",
      "execution_count": null,
      "id": "3ee3660d-f617-4565-b55c-f797ede86e76",
      "metadata": {
        "id": "3ee3660d-f617-4565-b55c-f797ede86e76",
        "outputId": "fdc3a7a4-5b9b-454d-c0a5-cc5efaeb9ed3"
      },
      "outputs": [
        {
          "data": {
            "text/plain": [
              "<bound method DataFrame.dropna of         id first_name last_name                                    email  \\\n",
              "0        1       Paul     Casey           paul.casey.1@gslingacademy.com   \n",
              "1        2   Danielle  Sandoval    danielle.sandoval.2@gslingacademy.com   \n",
              "2        3       Tina   Andrews         tina.andrews.3@gslingacademy.com   \n",
              "3        4       Tara     Clark           tara.clark.4@gslingacademy.com   \n",
              "4        5    Anthony    Campos       anthony.campos.5@gslingacademy.com   \n",
              "...    ...        ...       ...                                      ...   \n",
              "1995  1996       Alan  Reynolds     alan.reynolds.1996@gslingacademy.com   \n",
              "1996  1997     Thomas   Gilbert    thomas.gilbert.1997@gslingacademy.com   \n",
              "1997  1998    Madison     Cross     madison.cross.1998@gslingacademy.com   \n",
              "1998  1999   Brittany   Compton  brittany.compton.1999@gslingacademy.com   \n",
              "1999  2000    Natalie     Smith     natalie.smith.2000@gslingacademy.com   \n",
              "\n",
              "      gender  part_time_job  absence_days  extracurricular_activities  \\\n",
              "0       male          False             3                       False   \n",
              "1     female          False             2                       False   \n",
              "2     female          False             9                        True   \n",
              "3     female          False             5                       False   \n",
              "4       male          False             5                       False   \n",
              "...      ...            ...           ...                         ...   \n",
              "1995    male          False             2                       False   \n",
              "1996    male          False             2                       False   \n",
              "1997  female          False             5                       False   \n",
              "1998  female           True            10                        True   \n",
              "1999  female          False             5                       False   \n",
              "\n",
              "      weekly_self_study_hours      career_aspiration  math_score  \\\n",
              "0                          27                 Lawyer          73   \n",
              "1                          47                 Doctor          90   \n",
              "2                          13     Government Officer          81   \n",
              "3                           3                 Artist          71   \n",
              "4                          10                Unknown          84   \n",
              "...                       ...                    ...         ...   \n",
              "1995                       30  Construction Engineer          83   \n",
              "1996                       20      Software Engineer          89   \n",
              "1997                       14      Software Engineer          97   \n",
              "1998                        5         Business Owner          51   \n",
              "1999                       27             Accountant          82   \n",
              "\n",
              "      history_score  physics_score  chemistry_score  biology_score  \\\n",
              "0                81             93               97             63   \n",
              "1                86             96              100             90   \n",
              "2                97             95               96             65   \n",
              "3                74             88               80             89   \n",
              "4                77             65               65             80   \n",
              "...             ...            ...              ...            ...   \n",
              "1995             77             84               73             75   \n",
              "1996             65             73               80             87   \n",
              "1997             85             63               93             68   \n",
              "1998             96             72               89             95   \n",
              "1999             99             91               69             83   \n",
              "\n",
              "      english_score  geography_score  average_score  \n",
              "0                80               87      82.000000  \n",
              "1                88               90      91.428571  \n",
              "2                77               94      86.428571  \n",
              "3                63               86      78.714286  \n",
              "4                74               76      74.428571  \n",
              "...             ...              ...            ...  \n",
              "1995             84               82      79.714286  \n",
              "1996             67               73      76.285714  \n",
              "1997             94               78      82.571429  \n",
              "1998             88               75      80.857143  \n",
              "1999             93              100      88.142857  \n",
              "\n",
              "[2000 rows x 18 columns]>"
            ]
          },
          "execution_count": 11,
          "metadata": {},
          "output_type": "execute_result"
        }
      ],
      "source": [
        "df.dropna"
      ]
    },
    {
      "cell_type": "code",
      "execution_count": null,
      "id": "616749e8-c021-4704-8ab7-559d92ab7e08",
      "metadata": {
        "id": "616749e8-c021-4704-8ab7-559d92ab7e08"
      },
      "outputs": [],
      "source": [
        "x = df.drop('average_score',axis=1)\n",
        "y = df['average_score']"
      ]
    },
    {
      "cell_type": "code",
      "execution_count": null,
      "id": "b751c7b4-0b60-48d3-8b64-c547143d9367",
      "metadata": {
        "id": "b751c7b4-0b60-48d3-8b64-c547143d9367",
        "outputId": "c1bc0ab2-9935-491d-9643-2939b59f85c4"
      },
      "outputs": [
        {
          "data": {
            "text/html": [
              "<div>\n",
              "<style scoped>\n",
              "    .dataframe tbody tr th:only-of-type {\n",
              "        vertical-align: middle;\n",
              "    }\n",
              "\n",
              "    .dataframe tbody tr th {\n",
              "        vertical-align: top;\n",
              "    }\n",
              "\n",
              "    .dataframe thead th {\n",
              "        text-align: right;\n",
              "    }\n",
              "</style>\n",
              "<table border=\"1\" class=\"dataframe\">\n",
              "  <thead>\n",
              "    <tr style=\"text-align: right;\">\n",
              "      <th></th>\n",
              "      <th>id</th>\n",
              "      <th>first_name</th>\n",
              "      <th>last_name</th>\n",
              "      <th>email</th>\n",
              "      <th>gender</th>\n",
              "      <th>part_time_job</th>\n",
              "      <th>absence_days</th>\n",
              "      <th>extracurricular_activities</th>\n",
              "      <th>weekly_self_study_hours</th>\n",
              "      <th>career_aspiration</th>\n",
              "      <th>math_score</th>\n",
              "      <th>history_score</th>\n",
              "      <th>physics_score</th>\n",
              "      <th>chemistry_score</th>\n",
              "      <th>biology_score</th>\n",
              "      <th>english_score</th>\n",
              "      <th>geography_score</th>\n",
              "      <th>average_score</th>\n",
              "    </tr>\n",
              "  </thead>\n",
              "  <tbody>\n",
              "    <tr>\n",
              "      <th>0</th>\n",
              "      <td>1</td>\n",
              "      <td>Paul</td>\n",
              "      <td>Casey</td>\n",
              "      <td>paul.casey.1@gslingacademy.com</td>\n",
              "      <td>male</td>\n",
              "      <td>False</td>\n",
              "      <td>3</td>\n",
              "      <td>False</td>\n",
              "      <td>27</td>\n",
              "      <td>Lawyer</td>\n",
              "      <td>73</td>\n",
              "      <td>81</td>\n",
              "      <td>93</td>\n",
              "      <td>97</td>\n",
              "      <td>63</td>\n",
              "      <td>80</td>\n",
              "      <td>87</td>\n",
              "      <td>82.000000</td>\n",
              "    </tr>\n",
              "    <tr>\n",
              "      <th>1</th>\n",
              "      <td>2</td>\n",
              "      <td>Danielle</td>\n",
              "      <td>Sandoval</td>\n",
              "      <td>danielle.sandoval.2@gslingacademy.com</td>\n",
              "      <td>female</td>\n",
              "      <td>False</td>\n",
              "      <td>2</td>\n",
              "      <td>False</td>\n",
              "      <td>47</td>\n",
              "      <td>Doctor</td>\n",
              "      <td>90</td>\n",
              "      <td>86</td>\n",
              "      <td>96</td>\n",
              "      <td>100</td>\n",
              "      <td>90</td>\n",
              "      <td>88</td>\n",
              "      <td>90</td>\n",
              "      <td>91.428571</td>\n",
              "    </tr>\n",
              "  </tbody>\n",
              "</table>\n",
              "</div>"
            ],
            "text/plain": [
              "   id first_name last_name                                  email  gender  \\\n",
              "0   1       Paul     Casey         paul.casey.1@gslingacademy.com    male   \n",
              "1   2   Danielle  Sandoval  danielle.sandoval.2@gslingacademy.com  female   \n",
              "\n",
              "   part_time_job  absence_days  extracurricular_activities  \\\n",
              "0          False             3                       False   \n",
              "1          False             2                       False   \n",
              "\n",
              "   weekly_self_study_hours career_aspiration  math_score  history_score  \\\n",
              "0                       27            Lawyer          73             81   \n",
              "1                       47            Doctor          90             86   \n",
              "\n",
              "   physics_score  chemistry_score  biology_score  english_score  \\\n",
              "0             93               97             63             80   \n",
              "1             96              100             90             88   \n",
              "\n",
              "   geography_score  average_score  \n",
              "0               87      82.000000  \n",
              "1               90      91.428571  "
            ]
          },
          "execution_count": 14,
          "metadata": {},
          "output_type": "execute_result"
        }
      ],
      "source": [
        "df.head(2)"
      ]
    },
    {
      "cell_type": "code",
      "execution_count": null,
      "id": "389dfcc0-5006-4c48-84c0-11ddbaca6c7d",
      "metadata": {
        "id": "389dfcc0-5006-4c48-84c0-11ddbaca6c7d"
      },
      "outputs": [],
      "source": [
        "x = x.drop('first_name',axis=1)\n",
        "x = x.drop('last_name',axis=1)\n",
        "x = x.drop('email',axis=1)\n",
        "le = LabelEncoder()\n",
        "x['gender']=le.fit_transform(x['gender'])\n",
        "x['part_time_job']=le.fit_transform(x['part_time_job'])\n",
        "x['extracurricular_activities']=le.fit_transform(x['extracurricular_activities'])\n",
        "x['career_aspiration']=le.fit_transform(x['career_aspiration'])"
      ]
    },
    {
      "cell_type": "code",
      "execution_count": null,
      "id": "ba7b6f13-b4b5-4589-bf4c-7868772dfb43",
      "metadata": {
        "id": "ba7b6f13-b4b5-4589-bf4c-7868772dfb43"
      },
      "outputs": [],
      "source": [
        "se = StandardScaler()\n",
        "x = se.fit_transform(x)\n",
        "y = se.fit_transform(y.values.reshape(-1,1))"
      ]
    },
    {
      "cell_type": "code",
      "execution_count": null,
      "id": "57136133-05f5-47f6-b48c-59db73065ca2",
      "metadata": {
        "id": "57136133-05f5-47f6-b48c-59db73065ca2"
      },
      "outputs": [],
      "source": [
        "x_train,x_test,y_train,y_test = train_test_split(x,y,test_size=0.1,random_state=32)"
      ]
    },
    {
      "cell_type": "code",
      "execution_count": null,
      "id": "f341b6f9-2f7c-4933-aa5f-ad15ab3ae725",
      "metadata": {
        "id": "f341b6f9-2f7c-4933-aa5f-ad15ab3ae725",
        "outputId": "2f547729-85a9-4b17-e775-6d0f2d4b83d7"
      },
      "outputs": [
        {
          "name": "stdout",
          "output_type": "stream",
          "text": [
            "Mean Squared Error: 2.628236124053388e-29\n",
            "Mean Absolute Error: 4.135279358524757e-15\n",
            "R² Score: 1.0\n"
          ]
        }
      ],
      "source": [
        "from sklearn.metrics import mean_squared_error, mean_absolute_error, r2_score\n",
        "\n",
        "\n",
        "y_pred = model.predict(x_test)\n",
        "\n",
        "mse = mean_squared_error(y_test, y_pred)\n",
        "print(f\"Mean Squared Error: {mse}\")\n",
        "\n",
        "mae = mean_absolute_error(y_test, y_pred)\n",
        "print(f\"Mean Absolute Error: {mae}\")\n",
        "\n",
        "r2 = r2_score(y_test, y_pred)\n",
        "print(f\"R² Score: {r2}\")\n"
      ]
    },
    {
      "cell_type": "code",
      "execution_count": null,
      "id": "05a88fee-6d77-43cb-a510-259ce05e050e",
      "metadata": {
        "id": "05a88fee-6d77-43cb-a510-259ce05e050e",
        "outputId": "2638ad9a-bc8c-4454-9257-aab60cd700e3"
      },
      "outputs": [
        {
          "data": {
            "image/png": "[encoded data removed]",
            "text/plain": [
              "<Figure size 640x480 with 1 Axes>"
            ]
          },
          "metadata": {},
          "output_type": "display_data"
        }
      ],
      "source": [
        "plt.scatter(y_test, y_pred, color='blue', alpha=0.5,marker = '*')\n",
        "plt.plot([y_test.min(), y_test.max()], [y_test.min(), y_test.max()], color='red', linewidth=2)\n",
        "plt.xlabel(\"Actual Values\")\n",
        "plt.ylabel(\"Predicted Values\")\n",
        "plt.title(\"Linear Regression: Actual vs Predicted\")\n",
        "plt.show()"
      ]
    }
  ],
  "metadata": {
    "kernelspec": {
      "display_name": "Python 3 (ipykernel)",
      "language": "python",
      "name": "python3"
    },
    "language_info": {
      "codemirror_mode": {
        "name": "ipython",
        "version": 3
      },
      "file_extension": ".py",
      "mimetype": "text/x-python",
      "name": "python",
      "nbconvert_exporter": "python",
      "pygments_lexer": "ipython3",
      "version": "3.10.12"
    },
    "colab": {
      "provenance": [],
      "include_colab_link": true
    }
  },
  "nbformat": 4,
  "nbformat_minor": 5
}